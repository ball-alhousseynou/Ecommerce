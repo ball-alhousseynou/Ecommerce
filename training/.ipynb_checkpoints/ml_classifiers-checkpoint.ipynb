{
 "cells": [
  {
   "cell_type": "markdown",
   "metadata": {},
   "source": [
    "### Packages"
   ]
  },
  {
   "cell_type": "code",
   "execution_count": 1,
   "metadata": {},
   "outputs": [],
   "source": [
    "import pandas as pd\n",
    "from sklearn.svm import LinearSVC\n",
    "from sklearn.naive_bayes import MultinomialNB\n",
    "from sklearn.linear_model  import LogisticRegression\n",
    "from sklearn.feature_extraction.text import  TfidfVectorizer\n",
    "from sklearn.pipeline import Pipeline\n",
    "from sklearn.model_selection import train_test_split\n",
    "from sklearn.metrics import f1_score, classification_report\n",
    "import numpy as np\n",
    "from tqdm import tqdm\n",
    "import time\n",
    "from sklearn.model_selection import StratifiedKFold"
   ]
  },
  {
   "cell_type": "markdown",
   "metadata": {},
   "source": [
    "### Chargement du dataset"
   ]
  },
  {
   "cell_type": "code",
   "execution_count": 2,
   "metadata": {},
   "outputs": [
    {
     "data": {
      "text/html": [
       "<div>\n",
       "<style scoped>\n",
       "    .dataframe tbody tr th:only-of-type {\n",
       "        vertical-align: middle;\n",
       "    }\n",
       "\n",
       "    .dataframe tbody tr th {\n",
       "        vertical-align: top;\n",
       "    }\n",
       "\n",
       "    .dataframe thead th {\n",
       "        text-align: right;\n",
       "    }\n",
       "</style>\n",
       "<table border=\"1\" class=\"dataframe\">\n",
       "  <thead>\n",
       "    <tr style=\"text-align: right;\">\n",
       "      <th></th>\n",
       "      <th>index</th>\n",
       "      <th>labels</th>\n",
       "      <th>descriptions</th>\n",
       "      <th>desc_clean</th>\n",
       "    </tr>\n",
       "  </thead>\n",
       "  <tbody>\n",
       "    <tr>\n",
       "      <th>0</th>\n",
       "      <td>0</td>\n",
       "      <td>Household</td>\n",
       "      <td>Paper Plane Design Framed Wall Hanging Motivat...</td>\n",
       "      <td>paper plane design frame wall hang motivationa...</td>\n",
       "    </tr>\n",
       "    <tr>\n",
       "      <th>1</th>\n",
       "      <td>1</td>\n",
       "      <td>Household</td>\n",
       "      <td>SAF 'Floral' Framed Painting (Wood, 30 inch x ...</td>\n",
       "      <td>saf floral frame paint wood inch inch special ...</td>\n",
       "    </tr>\n",
       "    <tr>\n",
       "      <th>2</th>\n",
       "      <td>2</td>\n",
       "      <td>Household</td>\n",
       "      <td>SAF 'UV Textured Modern Art Print Framed' Pain...</td>\n",
       "      <td>saf texture modern art print frame paint synth...</td>\n",
       "    </tr>\n",
       "  </tbody>\n",
       "</table>\n",
       "</div>"
      ],
      "text/plain": [
       "   index     labels                                       descriptions  \\\n",
       "0      0  Household  Paper Plane Design Framed Wall Hanging Motivat...   \n",
       "1      1  Household  SAF 'Floral' Framed Painting (Wood, 30 inch x ...   \n",
       "2      2  Household  SAF 'UV Textured Modern Art Print Framed' Pain...   \n",
       "\n",
       "                                          desc_clean  \n",
       "0  paper plane design frame wall hang motivationa...  \n",
       "1  saf floral frame paint wood inch inch special ...  \n",
       "2  saf texture modern art print frame paint synth...  "
      ]
     },
     "execution_count": 2,
     "metadata": {},
     "output_type": "execute_result"
    }
   ],
   "source": [
    "df = pd.read_csv(\"../data/ecommerceDataset_clean.csv\")\n",
    "df.head(3)"
   ]
  },
  {
   "cell_type": "code",
   "execution_count": 3,
   "metadata": {},
   "outputs": [],
   "source": [
    "descriptions = df[\"desc_clean\"].map(str)\n",
    "labels = df[\"labels\"]"
   ]
  },
  {
   "cell_type": "markdown",
   "metadata": {},
   "source": [
    "### Classifieur"
   ]
  },
  {
   "cell_type": "code",
   "execution_count": 4,
   "metadata": {},
   "outputs": [],
   "source": [
    "def init_model(model, params):\n",
    "    model = Pipeline([(\"tfidf\", TfidfVectorizer(**params)),\n",
    "                      (\"clf\", model)\n",
    "                    ])\n",
    "\n",
    "    return model"
   ]
  },
  {
   "cell_type": "code",
   "execution_count": 5,
   "metadata": {},
   "outputs": [],
   "source": [
    "def get_score_model(model, X, y, skfold, verbose=False):\n",
    "\n",
    "    metrics = []\n",
    "    for train_index, test_index in tqdm(skfold.split(X, y)):\n",
    "        X_train, X_test = X[train_index], X[test_index]\n",
    "        y_train, y_test = y[train_index], y[test_index]\n",
    "\n",
    "        model.fit(X_train, y_train)\n",
    "        y_pred = model.predict(X_test)\n",
    "\n",
    "        metrics.append(f1_score(y_test, y_pred, average=\"macro\"))\n",
    "\n",
    "    metrics = np.array(metrics)\n",
    "    mean_score = np.mean(metrics, axis=0)\n",
    "    std_score = np.std(metrics, axis=0)\n",
    "\n",
    "    if verbose:\n",
    "        print('Mean F1 score: ', mean_score)\n",
    "        print('Std F1 score: ', std_score)\n",
    "        \n",
    "    return mean_score, std_score "
   ]
  },
  {
   "cell_type": "code",
   "execution_count": 6,
   "metadata": {},
   "outputs": [],
   "source": [
    "params = {\n",
    "            \"lowercase\": False, \n",
    "            \"max_df\": 0.9,\n",
    "            \"min_df\": 3, \n",
    "            \"ngram_range\": (1, 2)\n",
    "        }\n",
    "\n",
    "nb = init_model(MultinomialNB(), params)\n",
    "lr = init_model(LogisticRegression(max_iter=500), params)\n",
    "lsvc = init_model(LinearSVC(random_state=42), params)"
   ]
  },
  {
   "cell_type": "code",
   "execution_count": 7,
   "metadata": {},
   "outputs": [
    {
     "name": "stderr",
     "output_type": "stream",
     "text": [
      "5it [00:36,  7.31s/it]\n",
      "5it [03:16, 39.21s/it]\n",
      "5it [00:48,  9.79s/it]\n"
     ]
    }
   ],
   "source": [
    "skfold = StratifiedKFold(n_splits=5, shuffle=True, random_state=42)\n",
    "entries = []\n",
    "\n",
    "start_time = time.time()\n",
    "mean_score, std_score = get_score_model(nb, descriptions, labels, skfold)\n",
    "entries.append((\"MultinomialNB\", mean_score, std_score, time.time() - start_time))\n",
    "\n",
    "start_time = time.time()\n",
    "mean_score, std_score = get_score_model(lr, descriptions, labels, skfold)\n",
    "entries.append((\"LogisticRegression\", mean_score, std_score, time.time() - start_time))\n",
    "\n",
    "start_time = time.time()\n",
    "mean_score, std_score = get_score_model(lsvc, descriptions, labels, skfold)\n",
    "entries.append((\"LinearSVC\", mean_score, std_score, time.time() - start_time))"
   ]
  },
  {
   "cell_type": "code",
   "execution_count": 8,
   "metadata": {},
   "outputs": [
    {
     "data": {
      "text/html": [
       "<div>\n",
       "<style scoped>\n",
       "    .dataframe tbody tr th:only-of-type {\n",
       "        vertical-align: middle;\n",
       "    }\n",
       "\n",
       "    .dataframe tbody tr th {\n",
       "        vertical-align: top;\n",
       "    }\n",
       "\n",
       "    .dataframe thead th {\n",
       "        text-align: right;\n",
       "    }\n",
       "</style>\n",
       "<table border=\"1\" class=\"dataframe\">\n",
       "  <thead>\n",
       "    <tr style=\"text-align: right;\">\n",
       "      <th></th>\n",
       "      <th>Mean F1 score</th>\n",
       "      <th>Standard deviation</th>\n",
       "      <th>Time execution(seconds)</th>\n",
       "    </tr>\n",
       "    <tr>\n",
       "      <th>Model name</th>\n",
       "      <th></th>\n",
       "      <th></th>\n",
       "      <th></th>\n",
       "    </tr>\n",
       "  </thead>\n",
       "  <tbody>\n",
       "    <tr>\n",
       "      <th>MultinomialNB</th>\n",
       "      <td>0.953949</td>\n",
       "      <td>0.001148</td>\n",
       "      <td>36.536089</td>\n",
       "    </tr>\n",
       "    <tr>\n",
       "      <th>LogisticRegression</th>\n",
       "      <td>0.970093</td>\n",
       "      <td>0.001619</td>\n",
       "      <td>196.039848</td>\n",
       "    </tr>\n",
       "    <tr>\n",
       "      <th>LinearSVC</th>\n",
       "      <td>0.983119</td>\n",
       "      <td>0.000746</td>\n",
       "      <td>48.967262</td>\n",
       "    </tr>\n",
       "  </tbody>\n",
       "</table>\n",
       "</div>"
      ],
      "text/plain": [
       "                    Mean F1 score  Standard deviation  Time execution(seconds)\n",
       "Model name                                                                    \n",
       "MultinomialNB            0.953949            0.001148                36.536089\n",
       "LogisticRegression       0.970093            0.001619               196.039848\n",
       "LinearSVC                0.983119            0.000746                48.967262"
      ]
     },
     "execution_count": 8,
     "metadata": {},
     "output_type": "execute_result"
    }
   ],
   "source": [
    "entries_df = pd.DataFrame(entries, columns=[\"Model name\", \"Mean F1 score\", \"Standard deviation\", \"Time execution(seconds)\"])\n",
    "entries_df.set_index('Model name', inplace=True)\n",
    "entries_df"
   ]
  },
  {
   "cell_type": "markdown",
   "metadata": {},
   "source": [
    "### Scores LSVC"
   ]
  },
  {
   "cell_type": "code",
   "execution_count": 9,
   "metadata": {},
   "outputs": [
    {
     "name": "stdout",
     "output_type": "stream",
     "text": [
      "                        precision    recall  f1-score   support\n",
      "\n",
      "                 Books       0.99      0.97      0.98      3546\n",
      "Clothing & Accessories       0.98      0.99      0.98      2601\n",
      "           Electronics       0.98      0.97      0.98      3187\n",
      "             Household       0.97      0.99      0.98      5794\n",
      "\n",
      "              accuracy                           0.98     15128\n",
      "             macro avg       0.98      0.98      0.98     15128\n",
      "          weighted avg       0.98      0.98      0.98     15128\n",
      "\n"
     ]
    }
   ],
   "source": [
    "X_train, X_test, y_train, y_test = train_test_split(descriptions, \n",
    "                                                    labels, \n",
    "                                                    test_size=0.3, \n",
    "                                                    stratify=labels, \n",
    "                                                    random_state=42)\n",
    "params = {\n",
    "            \"lowercase\": False, \n",
    "            \"max_df\": 0.9,\n",
    "            \"min_df\": 3, \n",
    "            \"ngram_range\": (1, 2)\n",
    "        }\n",
    "\n",
    "model = init_model(LinearSVC(), params)\n",
    "model.fit(X_train, y_train)\n",
    "y_pred = model.predict(X_test)\n",
    "print(classification_report(y_test, y_pred))"
   ]
  },
  {
   "cell_type": "code",
   "execution_count": null,
   "metadata": {},
   "outputs": [],
   "source": []
  }
 ],
 "metadata": {
  "kernelspec": {
   "display_name": "Python 3",
   "language": "python",
   "name": "python3"
  },
  "language_info": {
   "codemirror_mode": {
    "name": "ipython",
    "version": 3
   },
   "file_extension": ".py",
   "mimetype": "text/x-python",
   "name": "python",
   "nbconvert_exporter": "python",
   "pygments_lexer": "ipython3",
   "version": "3.8.8"
  },
  "vscode": {
   "interpreter": {
    "hash": "8071c9e2de57f76ada8ac15c5cf14da9e131834f52f5a09872290fb705dfb37e"
   }
  }
 },
 "nbformat": 4,
 "nbformat_minor": 2
}
