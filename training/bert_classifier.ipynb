{
 "cells": [
  {
   "cell_type": "code",
   "execution_count": 27,
   "metadata": {
    "_cell_guid": "83908799-a58e-4b5b-b511-33c75444736b",
    "_uuid": "60e19d3a-7fdc-4c38-a792-8e1e2e6d2fff",
    "execution": {
     "iopub.execute_input": "2022-07-06T08:51:53.545701Z",
     "iopub.status.busy": "2022-07-06T08:51:53.544163Z",
     "iopub.status.idle": "2022-07-06T08:51:53.554697Z",
     "shell.execute_reply": "2022-07-06T08:51:53.553516Z",
     "shell.execute_reply.started": "2022-07-06T08:51:53.545652Z"
    },
    "jupyter": {
     "outputs_hidden": false
    }
   },
   "outputs": [],
   "source": [
    "import numpy as np\n",
    "import pandas as pd\n",
    "from sklearn.metrics import f1_score, classification_report\n",
    "from sklearn.model_selection import train_test_split\n",
    "from sklearn.preprocessing import LabelEncoder\n",
    "from transformers import BertTokenizer, BertForSequenceClassification\n",
    "from transformers import Trainer, TrainingArguments\n",
    "from transformers import EarlyStoppingCallback\n",
    "import torch"
   ]
  },
  {
   "cell_type": "code",
   "execution_count": 3,
   "metadata": {
    "execution": {
     "iopub.execute_input": "2022-07-06T07:37:10.808588Z",
     "iopub.status.busy": "2022-07-06T07:37:10.807955Z",
     "iopub.status.idle": "2022-07-06T07:37:10.816130Z",
     "shell.execute_reply": "2022-07-06T07:37:10.815125Z",
     "shell.execute_reply.started": "2022-07-06T07:37:10.808552Z"
    }
   },
   "outputs": [],
   "source": [
    "def get_batch_tokenizer(tokenizer, dataset):\n",
    "    return tokenizer.batch_encode_plus(dataset,\n",
    "                                       max_length=256,\n",
    "                                       padding=True,\n",
    "                                       truncation=True,\n",
    "                                       add_special_tokens=True,\n",
    "                                       return_attention_mask=True,\n",
    "                                       return_tensors='pt')\n"
   ]
  },
  {
   "cell_type": "code",
   "execution_count": 4,
   "metadata": {
    "execution": {
     "iopub.execute_input": "2022-07-06T07:37:10.821949Z",
     "iopub.status.busy": "2022-07-06T07:37:10.817740Z",
     "iopub.status.idle": "2022-07-06T07:37:10.829278Z",
     "shell.execute_reply": "2022-07-06T07:37:10.828320Z",
     "shell.execute_reply.started": "2022-07-06T07:37:10.821915Z"
    }
   },
   "outputs": [],
   "source": [
    "class Dataset(torch.utils.data.Dataset):\n",
    "    def __init__(self, encodings, labels):\n",
    "        self.encodings = encodings\n",
    "        self.labels = labels\n",
    "\n",
    "    def __getitem__(self, idx):\n",
    "        item = {key: torch.tensor(val[idx]) for key, val\n",
    "                in self.encodings.items()}\n",
    "        item['labels'] = torch.tensor(self.labels[idx])\n",
    "        return item\n",
    "\n",
    "    def __len__(self):\n",
    "        return len(self.labels)"
   ]
  },
  {
   "cell_type": "code",
   "execution_count": 5,
   "metadata": {
    "execution": {
     "iopub.execute_input": "2022-07-06T07:37:29.689851Z",
     "iopub.status.busy": "2022-07-06T07:37:29.689486Z",
     "iopub.status.idle": "2022-07-06T07:37:29.695572Z",
     "shell.execute_reply": "2022-07-06T07:37:29.694280Z",
     "shell.execute_reply.started": "2022-07-06T07:37:29.689820Z"
    }
   },
   "outputs": [],
   "source": [
    "def compute_metrics(p):\n",
    "    prediction, labels = p\n",
    "    preds_flat = np.argmax(prediction, axis=1).flatten()\n",
    "    labels_flat = labels.flatten()\n",
    "    f1 = f1_score(labels_flat, preds_flat, average='macro')\n",
    "    return {\"f1\": f1}"
   ]
  },
  {
   "cell_type": "code",
   "execution_count": 6,
   "metadata": {
    "execution": {
     "iopub.execute_input": "2022-07-06T07:37:30.621220Z",
     "iopub.status.busy": "2022-07-06T07:37:30.620855Z",
     "iopub.status.idle": "2022-07-06T07:37:31.559687Z",
     "shell.execute_reply": "2022-07-06T07:37:31.558727Z",
     "shell.execute_reply.started": "2022-07-06T07:37:30.621191Z"
    }
   },
   "outputs": [],
   "source": [
    "df = pd.read_csv(\"../data/ecommerceDataset.csv\", names=[\"labels\", \"descriptions\"])\n",
    "descriptions = df[\"descriptions\"].map(str).values.tolist()\n",
    "labels = df[\"labels\"].values.tolist()\n",
    "\n",
    "le = LabelEncoder()\n",
    "labels = le.fit_transform(labels).tolist()"
   ]
  },
  {
   "cell_type": "code",
   "execution_count": 8,
   "metadata": {
    "execution": {
     "iopub.execute_input": "2022-07-06T07:37:36.220041Z",
     "iopub.status.busy": "2022-07-06T07:37:36.219643Z",
     "iopub.status.idle": "2022-07-06T07:38:26.687384Z",
     "shell.execute_reply": "2022-07-06T07:38:26.685095Z",
     "shell.execute_reply.started": "2022-07-06T07:37:36.220007Z"
    }
   },
   "outputs": [],
   "source": [
    "model = BertForSequenceClassification.from_pretrained(\n",
    "    \"bert-base-uncased\",\n",
    "    num_labels=4)\n",
    "device = torch.device(\"cuda\" if torch.cuda.is_available() else \"cpu\")\n",
    "model.to(device)"
   ]
  },
  {
   "cell_type": "code",
   "execution_count": 9,
   "metadata": {
    "execution": {
     "iopub.execute_input": "2022-07-06T07:38:26.689917Z",
     "iopub.status.busy": "2022-07-06T07:38:26.689521Z",
     "iopub.status.idle": "2022-07-06T07:38:34.675497Z",
     "shell.execute_reply": "2022-07-06T07:38:34.674569Z",
     "shell.execute_reply.started": "2022-07-06T07:38:26.689881Z"
    }
   },
   "outputs": [],
   "source": [
    "tokenizer = BertTokenizer.from_pretrained(\n",
    "        \"bert-base-uncased\",\n",
    "        do_lower_case=True)"
   ]
  },
  {
   "cell_type": "code",
   "execution_count": 17,
   "metadata": {
    "execution": {
     "iopub.execute_input": "2022-07-06T07:46:08.875414Z",
     "iopub.status.busy": "2022-07-06T07:46:08.874720Z",
     "iopub.status.idle": "2022-07-06T07:46:08.954973Z",
     "shell.execute_reply": "2022-07-06T07:46:08.954050Z",
     "shell.execute_reply.started": "2022-07-06T07:46:08.875380Z"
    }
   },
   "outputs": [],
   "source": [
    "x_train, x_test, y_train, y_test = train_test_split(descriptions, labels, test_size=0.4, stratify=labels, random_state=42)\n",
    "x_valid, x_test, y_valid, y_test = train_test_split(descriptions, labels, test_size=0.5, random_state=42)"
   ]
  },
  {
   "cell_type": "code",
   "execution_count": 18,
   "metadata": {
    "execution": {
     "iopub.execute_input": "2022-07-06T07:46:13.159712Z",
     "iopub.status.busy": "2022-07-06T07:46:13.159348Z",
     "iopub.status.idle": "2022-07-06T07:52:15.094163Z",
     "shell.execute_reply": "2022-07-06T07:52:15.093179Z",
     "shell.execute_reply.started": "2022-07-06T07:46:13.159664Z"
    }
   },
   "outputs": [],
   "source": [
    "x_train_tokens = get_batch_tokenizer(tokenizer, x_train)\n",
    "x_valid_tokens = get_batch_tokenizer(tokenizer, x_valid)\n",
    "x_test_tokens = get_batch_tokenizer(tokenizer, x_test)"
   ]
  },
  {
   "cell_type": "code",
   "execution_count": 19,
   "metadata": {
    "execution": {
     "iopub.execute_input": "2022-07-06T07:52:25.239972Z",
     "iopub.status.busy": "2022-07-06T07:52:25.239607Z",
     "iopub.status.idle": "2022-07-06T07:52:25.245256Z",
     "shell.execute_reply": "2022-07-06T07:52:25.244188Z",
     "shell.execute_reply.started": "2022-07-06T07:52:25.239942Z"
    }
   },
   "outputs": [],
   "source": [
    "train_dataset = Dataset(x_train_tokens, y_train)\n",
    "valid_dataset = Dataset(x_valid_tokens, y_valid)\n",
    "test_dataset = Dataset(x_test_tokens, y_test)"
   ]
  },
  {
   "cell_type": "code",
   "execution_count": 20,
   "metadata": {
    "execution": {
     "iopub.execute_input": "2022-07-06T07:52:27.352220Z",
     "iopub.status.busy": "2022-07-06T07:52:27.351886Z",
     "iopub.status.idle": "2022-07-06T07:52:27.362446Z",
     "shell.execute_reply": "2022-07-06T07:52:27.361141Z",
     "shell.execute_reply.started": "2022-07-06T07:52:27.352194Z"
    }
   },
   "outputs": [],
   "source": [
    "args = TrainingArguments(output_dir=\"output\",\n",
    "                            evaluation_strategy=\"epoch\",\n",
    "                            metric_for_best_model=\"f1\",\n",
    "                            save_strategy=\"epoch\",\n",
    "                            num_train_epochs=3,\n",
    "                            load_best_model_at_end=True\n",
    "                            )"
   ]
  },
  {
   "cell_type": "code",
   "execution_count": 21,
   "metadata": {
    "execution": {
     "iopub.execute_input": "2022-07-06T07:52:46.006888Z",
     "iopub.status.busy": "2022-07-06T07:52:46.006456Z",
     "iopub.status.idle": "2022-07-06T07:52:46.019380Z",
     "shell.execute_reply": "2022-07-06T07:52:46.018244Z",
     "shell.execute_reply.started": "2022-07-06T07:52:46.006854Z"
    }
   },
   "outputs": [],
   "source": [
    "trainer = Trainer(args=args,\n",
    "                    model=model,\n",
    "                    train_dataset=train_dataset,\n",
    "                    eval_dataset=valid_dataset,\n",
    "                    compute_metrics=compute_metrics,\n",
    "                    callbacks=[EarlyStoppingCallback(\n",
    "                            early_stopping_patience=3)]\n",
    "                    )"
   ]
  },
  {
   "cell_type": "code",
   "execution_count": 22,
   "metadata": {
    "execution": {
     "iopub.execute_input": "2022-07-06T07:52:47.789978Z",
     "iopub.status.busy": "2022-07-06T07:52:47.789034Z",
     "iopub.status.idle": "2022-07-06T08:45:54.206920Z",
     "shell.execute_reply": "2022-07-06T08:45:54.206041Z",
     "shell.execute_reply.started": "2022-07-06T07:52:47.789925Z"
    }
   },
   "outputs": [],
   "source": [
    "trainer.train()"
   ]
  },
  {
   "cell_type": "code",
   "execution_count": 41,
   "metadata": {
    "execution": {
     "iopub.execute_input": "2022-07-06T09:11:03.647994Z",
     "iopub.status.busy": "2022-07-06T09:11:03.647363Z",
     "iopub.status.idle": "2022-07-06T09:14:28.742980Z",
     "shell.execute_reply": "2022-07-06T09:14:28.742073Z",
     "shell.execute_reply.started": "2022-07-06T09:11:03.647957Z"
    }
   },
   "outputs": [],
   "source": [
    "trainer = Trainer(model=model)\n",
    "predictions = trainer.predict(test_dataset)"
   ]
  },
  {
   "cell_type": "code",
   "execution_count": 42,
   "metadata": {
    "execution": {
     "iopub.execute_input": "2022-07-06T09:14:41.806692Z",
     "iopub.status.busy": "2022-07-06T09:14:41.806273Z",
     "iopub.status.idle": "2022-07-06T09:14:41.814955Z",
     "shell.execute_reply": "2022-07-06T09:14:41.813716Z",
     "shell.execute_reply.started": "2022-07-06T09:14:41.806662Z"
    }
   },
   "outputs": [],
   "source": [
    "preds = np.argmax(predictions.predictions, axis=1).flatten()\n",
    "true_vals = predictions.label_ids"
   ]
  },
  {
   "cell_type": "code",
   "execution_count": 44,
   "metadata": {
    "execution": {
     "iopub.execute_input": "2022-07-06T09:17:19.566519Z",
     "iopub.status.busy": "2022-07-06T09:17:19.565862Z",
     "iopub.status.idle": "2022-07-06T09:17:19.622410Z",
     "shell.execute_reply": "2022-07-06T09:17:19.621129Z",
     "shell.execute_reply.started": "2022-07-06T09:17:19.566482Z"
    }
   },
   "outputs": [],
   "source": [
    "print(classification_report(true_vals, preds, target_names=list(le.classes_)))"
   ]
  },
  {
   "cell_type": "code",
   "execution_count": null,
   "metadata": {},
   "outputs": [],
   "source": []
  }
 ],
 "metadata": {
  "kernelspec": {
   "display_name": "Python 3",
   "language": "python",
   "name": "python3"
  },
  "language_info": {
   "codemirror_mode": {
    "name": "ipython",
    "version": 3
   },
   "file_extension": ".py",
   "mimetype": "text/x-python",
   "name": "python",
   "nbconvert_exporter": "python",
   "pygments_lexer": "ipython3",
   "version": "3.8.8"
  }
 },
 "nbformat": 4,
 "nbformat_minor": 4
}
